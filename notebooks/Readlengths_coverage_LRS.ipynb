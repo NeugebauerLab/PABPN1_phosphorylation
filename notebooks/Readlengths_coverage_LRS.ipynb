{
 "cells": [
  {
   "cell_type": "code",
   "execution_count": 28,
   "id": "downtown-shadow",
   "metadata": {},
   "outputs": [],
   "source": [
    "###Load Packages\n",
    "\n",
    "#Functions for polyA specific analysis (must be in same path)\n",
    "from polyA_utils import *\n",
    "\n",
    "#Packages for general column manipulation and statistics\n",
    "import numpy as np\n",
    "import pandas as pd\n",
    "import csv\n",
    "from tqdm import tqdm\n",
    "from scipy import stats\n",
    "import scipy.stats as sci\n",
    "import pysam\n",
    "\n",
    "#Packages for plotting\n",
    "import matplotlib.pyplot as plt\n",
    "from statannotations.Annotator import Annotator\n",
    "import seaborn as sns\n",
    "sns.set(font_scale=1.5)\n",
    "sns.set_style(\"white\")"
   ]
  },
  {
   "cell_type": "markdown",
   "id": "c3e8cd4b",
   "metadata": {},
   "source": [
    "# Calculate readlengths"
   ]
  },
  {
   "cell_type": "code",
   "execution_count": 10,
   "id": "announced-coordinator",
   "metadata": {},
   "outputs": [],
   "source": [
    "#Load read data (all reads concat together)\n",
    "path = \"/Users/jacksongordon/Desktop/Neugebauer_Lab/Experiments/Exp10_PABPN1_mutants_sequencing/Data_processing/Exp10/results/prinseq/\"\n",
    "\n",
    "EV_R1 = path + \"h112.R1_td.fastq.gz\"\n",
    "WT_R1 = path + \"h113.R1_td.fastq.gz\"\n",
    "S4A_R1 = path + \"h115.R1_td.fastq.gz\"\n",
    "S4D_R1 = path + \"h117.R1_td.fastq.gz\"\n",
    "EV_R2 = path + \"h112.R2_td.fastq.gz\"\n",
    "WT_R2 = path + \"h113.R2_td.fastq.gz\"\n",
    "S4A_R2 = path + \"h115.R2_td.fastq.gz\"\n",
    "S4D_R2 = path + \"h117.R2_td.fastq.gz\"\n",
    "\n",
    "allreads = path + \"all_reads.fastq\"\n"
   ]
  },
  {
   "cell_type": "code",
   "execution_count": 11,
   "id": "legislative-wagner",
   "metadata": {},
   "outputs": [],
   "source": [
    "#Function to extract read lengths from .fasta files\n",
    "def getreadlengths(data):\n",
    "    readlengths = []\n",
    "    if data.endswith(\".gz\"):\n",
    "        with gz.open(data, 'rt') as f:\n",
    "            for line in tqdm(f):\n",
    "                if (line[0][0] != 'A') & (line[0][0] != 'G') & (line[0][0] != 'C') & (line[0][0] != 'T'):\n",
    "                    continue\n",
    "                readlengths.append(len(line))\n",
    "        return(readlengths)\n",
    "    else:\n",
    "        with open(data, 'rt') as f:\n",
    "            for line in tqdm(f):\n",
    "                if (line[0][0] != 'A') & (line[0][0] != 'G') & (line[0][0] != 'C') & (line[0][0] != 'T'):\n",
    "                    continue\n",
    "                readlengths.append(len(line))\n",
    "        return(readlengths)"
   ]
  },
  {
   "cell_type": "code",
   "execution_count": 12,
   "id": "architectural-bhutan",
   "metadata": {},
   "outputs": [
    {
     "name": "stderr",
     "output_type": "stream",
     "text": [
      "11199136it [00:09, 1218842.37it/s]\n",
      "2866136it [00:07, 377973.00it/s]\n",
      "1994972it [00:05, 395048.27it/s]\n",
      "2138876it [00:05, 386363.73it/s]\n",
      "571596it [00:01, 389553.62it/s]\n",
      "1353188it [00:03, 352233.94it/s]\n",
      "686964it [00:02, 336879.87it/s]\n",
      "1092344it [00:03, 356109.91it/s]\n",
      "495060it [00:01, 368792.47it/s]\n"
     ]
    }
   ],
   "source": [
    "#all reads\n",
    "rl = getreadlengths(allreads)\n",
    "reads = pd.Series(rl)\n",
    "rl_df = pd.DataFrame(rl)\n",
    "\n",
    "#EV, R1\n",
    "rl_EV_1 = getreadlengths(EV_R1)\n",
    "reads_EV_1 = pd.Series(rl_EV_1)\n",
    "rl_df_EV_1 = pd.DataFrame(rl_EV_1)\n",
    "rl_df_EV_1['Replicate'] = 1\n",
    "\n",
    "#WT, R1\n",
    "rl_WT_1 = getreadlengths(WT_R1)\n",
    "reads_WT_1 = pd.Series(rl_WT_1)\n",
    "rl_df_WT_1 = pd.DataFrame(rl_WT_1)\n",
    "rl_df_WT_1['Replicate'] = 1\n",
    "\n",
    "#4SA, R1\n",
    "rl_4SA_1 = getreadlengths(S4A_R1)\n",
    "reads_4SA_1 = pd.Series(rl_4SA_1)\n",
    "rl_df_4SA_1 = pd.DataFrame(rl_4SA_1)\n",
    "rl_df_4SA_1['Replicate'] = 1\n",
    "\n",
    "#4SD, R1\n",
    "rl_4SD_1 = getreadlengths(S4D_R1)\n",
    "reads_4SD_1 = pd.Series(rl_4SD_1)\n",
    "rl_df_4SD_1 = pd.DataFrame(rl_4SD_1)\n",
    "rl_df_4SD_1['Replicate'] = 1\n",
    "\n",
    "##########\n",
    "#EV, R2\n",
    "rl_EV_2 = getreadlengths(EV_R2)\n",
    "reads_EV_2 = pd.Series(rl_EV_2)\n",
    "rl_df_EV_2 = pd.DataFrame(rl_EV_2)\n",
    "rl_df_EV_2['Replicate'] = 2\n",
    "\n",
    "#WT, R2\n",
    "rl_WT_2 = getreadlengths(WT_R2)\n",
    "reads_WT_2 = pd.Series(rl_WT_2)\n",
    "rl_df_WT_2 = pd.DataFrame(rl_WT_2)\n",
    "rl_df_WT_2['Replicate'] = 2\n",
    "\n",
    "#4SA, R2\n",
    "rl_4SA_2 = getreadlengths(S4A_R2)\n",
    "reads_4SA_2 = pd.Series(rl_4SA_2)\n",
    "rl_df_4SA_2 = pd.DataFrame(rl_4SA_2)\n",
    "rl_df_4SA_2['Replicate'] = 2\n",
    "\n",
    "#4SD, R2\n",
    "rl_4SD_2 = getreadlengths(S4D_R2)\n",
    "reads_4SD_2 = pd.Series(rl_4SD_2)\n",
    "rl_df_4SD_2 = pd.DataFrame(rl_4SD_2)\n",
    "rl_df_4SD_2['Replicate'] = 2\n"
   ]
  },
  {
   "cell_type": "code",
   "execution_count": 13,
   "id": "russian-israel",
   "metadata": {},
   "outputs": [
    {
     "name": "stdout",
     "output_type": "stream",
     "text": [
      "908.0 1046.0 875.0 970.0 894.0 1024.0 883.0 990.0\n"
     ]
    }
   ],
   "source": [
    "print(rl_df_EV_1[0].median(),\n",
    "      rl_df_EV_2[0].median(),\n",
    "      rl_df_WT_1[0].median(),\n",
    "      rl_df_WT_2[0].median(),\n",
    "      rl_df_4SA_1[0].median(),\n",
    "      rl_df_4SA_2[0].median(),\n",
    "      rl_df_4SD_1[0].median(),\n",
    "      rl_df_4SD_2[0].median(),\n",
    "     )"
   ]
  },
  {
   "cell_type": "code",
   "execution_count": 15,
   "id": "portable-newark",
   "metadata": {},
   "outputs": [
    {
     "name": "stderr",
     "output_type": "stream",
     "text": [
      "11199136it [00:09, 1206365.73it/s]\n"
     ]
    }
   ],
   "source": [
    "allreads_l = getreadlengths(allreads)\n",
    "reads_all_l = pd.Series(allreads_l)\n",
    "rl_df = pd.DataFrame(reads_all_l)"
   ]
  },
  {
   "cell_type": "code",
   "execution_count": 17,
   "id": "sorted-implementation",
   "metadata": {},
   "outputs": [
    {
     "data": {
      "text/plain": [
       "Text(0, 0.5, 'Read counts')"
      ]
     },
     "execution_count": 17,
     "metadata": {},
     "output_type": "execute_result"
    },
    {
     "data": {
      "image/png": "[encoded data removed]",
      "text/plain": [
       "<Figure size 500x500 with 1 Axes>"
      ]
     },
     "metadata": {},
     "output_type": "display_data"
    }
   ],
   "source": [
    "#Plot the readlength distribution of all reads together\n",
    "fig, (ax1) = plt.subplots(1,1, figsize = (5, 5))\n",
    "plt.subplots_adjust(wspace=0.3, hspace=0.5)\n",
    "\n",
    "sns.histplot(data = np.log10(rl_df), binwidth = 0.05, element=\"step\", ax = ax1, legend = False, lw=2.5, palette=['steelblue'])\n",
    "ax1.set_xlim(1,4)\n",
    "ax1.set_xlabel('log10 (Readlength)')\n",
    "ax1.set_ylabel('Read counts')\n",
    "\n",
    "#Save plot as jpeg if using"
   ]
  },
  {
   "cell_type": "code",
   "execution_count": 20,
   "id": "mexican-combine",
   "metadata": {},
   "outputs": [
    {
     "name": "stdout",
     "output_type": "stream",
     "text": [
      "Minimum readlength: 2\n",
      "Maximum readlength: 6457\n",
      "Median readdlength: 934.0\n",
      "\n"
     ]
    }
   ],
   "source": [
    "#General read info - min, max, median\n",
    "print(\n",
    "    \"Minimum readlength: \" + str(rl_df.min()[0]) + \"\\n\" +\n",
    "    \"Maximum readlength: \" + str(rl_df.max()[0]) + \"\\n\" +\n",
    "    \"Median readdlength: \" + str(rl_df.median()[0]) + \"\\n\")"
   ]
  },
  {
   "cell_type": "markdown",
   "id": "2361507c",
   "metadata": {},
   "source": [
    "# Calculate gene coverage"
   ]
  },
  {
   "cell_type": "code",
   "execution_count": 22,
   "id": "6f4a2f3a",
   "metadata": {},
   "outputs": [],
   "source": [
    "# Define a function to get a dataframe of coverage for each gene\n",
    "\n",
    "def get_gene_cov(file, gene, condition):\n",
    "    data_bedtool = pybedtools.BedTool(file)\n",
    "    genes_bedtool = pybedtools.BedTool(genes)\n",
    "    \n",
    "    df = genes_bedtool.coverage(data_bedtool).to_dataframe(names = ['chr', 'start', 'end', 'name', 'score', 'strand', 'nReadsPerGene', 'nBasesPerGeneCovered', 'geneLength', 'fracBasesPerGeneCovered']) # column 6 is coverage count - how many reads from the data file overlap at each region (gene) in the genes file\n",
    "    df['sample'] = condition\n",
    "    \n",
    "    return df"
   ]
  },
  {
   "cell_type": "code",
   "execution_count": 23,
   "id": "d0b96157",
   "metadata": {},
   "outputs": [],
   "source": [
    "path = \"/Users/jacksongordon/Desktop/Neugebauer_Lab/Experiments/Exp10_PABPN1_mutants_sequencing/Data_processing/Exp10/results/\"\n",
    "genes = \"/Users/jacksongordon/Desktop/Neugebauer_Lab/Experiments/Exp10_PABPN1_mutants_sequencing/Data_processing/Exp10/config/only_genes.bed\""
   ]
  },
  {
   "cell_type": "code",
   "execution_count": 24,
   "id": "2cf8ca93",
   "metadata": {},
   "outputs": [
    {
     "name": "stderr",
     "output_type": "stream",
     "text": [
      "***** WARNING: File /Users/jacksongordon/Desktop/Neugebauer_Lab/Experiments/Exp10_PABPN1_mutants_sequencing/Data_processing/Exp10/results/mapping/h112.R1_hg38.bed has inconsistent naming convention for record:\n",
      "GL000009.2\t34651\t36797\tm64146_210430_195255/18284941/ccs\t16\t-\t34651\t36797\t255,0,0\t1\t2146\t0\n",
      "\n",
      "***** WARNING: File /Users/jacksongordon/Desktop/Neugebauer_Lab/Experiments/Exp10_PABPN1_mutants_sequencing/Data_processing/Exp10/results/mapping/h112.R1_hg38.bed has inconsistent naming convention for record:\n",
      "GL000009.2\t34651\t36797\tm64146_210430_195255/18284941/ccs\t16\t-\t34651\t36797\t255,0,0\t1\t2146\t0\n",
      "\n",
      "***** WARNING: File /Users/jacksongordon/Desktop/Neugebauer_Lab/Experiments/Exp10_PABPN1_mutants_sequencing/Data_processing/Exp10/results/mapping/h112.R1_hg38.bed has inconsistent naming convention for record:\n",
      "GL000009.2\t34651\t36797\tm64146_210430_195255/18284941/ccs\t16\t-\t34651\t36797\t255,0,0\t1\t2146\t0\n",
      "\n",
      "***** WARNING: File /Users/jacksongordon/Desktop/Neugebauer_Lab/Experiments/Exp10_PABPN1_mutants_sequencing/Data_processing/Exp10/results/mapping/h112.R1_hg38.bed has inconsistent naming convention for record:\n",
      "GL000009.2\t34651\t36797\tm64146_210430_195255/18284941/ccs\t16\t-\t34651\t36797\t255,0,0\t1\t2146\t0\n",
      "\n",
      "***** WARNING: File /Users/jacksongordon/Desktop/Neugebauer_Lab/Experiments/Exp10_PABPN1_mutants_sequencing/Data_processing/Exp10/results/mapping/h112.R1_hg38.bed has inconsistent naming convention for record:\n",
      "GL000009.2\t34651\t36797\tm64146_210430_195255/18284941/ccs\t16\t-\t34651\t36797\t255,0,0\t1\t2146\t0\n",
      "\n",
      "***** WARNING: File /Users/jacksongordon/Desktop/Neugebauer_Lab/Experiments/Exp10_PABPN1_mutants_sequencing/Data_processing/Exp10/results/mapping/h112.R1_hg38.bed has inconsistent naming convention for record:\n",
      "GL000009.2\t34651\t36797\tm64146_210430_195255/18284941/ccs\t16\t-\t34651\t36797\t255,0,0\t1\t2146\t0\n",
      "\n",
      "***** WARNING: File /Users/jacksongordon/Desktop/Neugebauer_Lab/Experiments/Exp10_PABPN1_mutants_sequencing/Data_processing/Exp10/results/mapping/h112.R1_hg38.bed has inconsistent naming convention for record:\n",
      "GL000009.2\t34651\t36797\tm64146_210430_195255/18284941/ccs\t16\t-\t34651\t36797\t255,0,0\t1\t2146\t0\n",
      "\n",
      "***** WARNING: File /Users/jacksongordon/Desktop/Neugebauer_Lab/Experiments/Exp10_PABPN1_mutants_sequencing/Data_processing/Exp10/results/mapping/h112.R1_hg38.bed has inconsistent naming convention for record:\n",
      "GL000009.2\t34651\t36797\tm64146_210430_195255/18284941/ccs\t16\t-\t34651\t36797\t255,0,0\t1\t2146\t0\n",
      "\n",
      "***** WARNING: File /Users/jacksongordon/Desktop/Neugebauer_Lab/Experiments/Exp10_PABPN1_mutants_sequencing/Data_processing/Exp10/results/mapping/h112.R1_hg38.bed has inconsistent naming convention for record:\n",
      "GL000009.2\t34651\t36797\tm64146_210430_195255/18284941/ccs\t16\t-\t34651\t36797\t255,0,0\t1\t2146\t0\n",
      "\n",
      "***** WARNING: File /Users/jacksongordon/Desktop/Neugebauer_Lab/Experiments/Exp10_PABPN1_mutants_sequencing/Data_processing/Exp10/results/mapping/h112.R1_hg38.bed has inconsistent naming convention for record:\n",
      "GL000009.2\t34651\t36797\tm64146_210430_195255/18284941/ccs\t16\t-\t34651\t36797\t255,0,0\t1\t2146\t0\n",
      "\n",
      "***** WARNING: File /Users/jacksongordon/Desktop/Neugebauer_Lab/Experiments/Exp10_PABPN1_mutants_sequencing/Data_processing/Exp10/results/mapping/h112.R1_hg38.bed has inconsistent naming convention for record:\n",
      "GL000009.2\t34651\t36797\tm64146_210430_195255/18284941/ccs\t16\t-\t34651\t36797\t255,0,0\t1\t2146\t0\n",
      "\n",
      "***** WARNING: File /Users/jacksongordon/Desktop/Neugebauer_Lab/Experiments/Exp10_PABPN1_mutants_sequencing/Data_processing/Exp10/results/mapping/h112.R1_hg38.bed has inconsistent naming convention for record:\n",
      "GL000009.2\t34651\t36797\tm64146_210430_195255/18284941/ccs\t16\t-\t34651\t36797\t255,0,0\t1\t2146\t0\n",
      "\n",
      "***** WARNING: File /Users/jacksongordon/Desktop/Neugebauer_Lab/Experiments/Exp10_PABPN1_mutants_sequencing/Data_processing/Exp10/results/mapping/h112.R1_hg38.bed has inconsistent naming convention for record:\n",
      "GL000009.2\t34651\t36797\tm64146_210430_195255/18284941/ccs\t16\t-\t34651\t36797\t255,0,0\t1\t2146\t0\n",
      "\n",
      "***** WARNING: File /Users/jacksongordon/Desktop/Neugebauer_Lab/Experiments/Exp10_PABPN1_mutants_sequencing/Data_processing/Exp10/results/mapping/h112.R1_hg38.bed has inconsistent naming convention for record:\n",
      "GL000009.2\t34651\t36797\tm64146_210430_195255/18284941/ccs\t16\t-\t34651\t36797\t255,0,0\t1\t2146\t0\n",
      "\n",
      "***** WARNING: File /Users/jacksongordon/Desktop/Neugebauer_Lab/Experiments/Exp10_PABPN1_mutants_sequencing/Data_processing/Exp10/results/mapping/h112.R1_hg38.bed has inconsistent naming convention for record:\n",
      "GL000009.2\t34651\t36797\tm64146_210430_195255/18284941/ccs\t16\t-\t34651\t36797\t255,0,0\t1\t2146\t0\n",
      "\n",
      "***** WARNING: File /Users/jacksongordon/Desktop/Neugebauer_Lab/Experiments/Exp10_PABPN1_mutants_sequencing/Data_processing/Exp10/results/mapping/h112.R1_hg38.bed has inconsistent naming convention for record:\n",
      "GL000009.2\t34651\t36797\tm64146_210430_195255/18284941/ccs\t16\t-\t34651\t36797\t255,0,0\t1\t2146\t0\n",
      "\n"
     ]
    }
   ],
   "source": [
    "h112_R1_cov = get_gene_cov(path + \"mapping/h112.R1_hg38.bed\", genes, \"EV\")\n",
    "h112_R2_cov = get_gene_cov(path + \"mapping/h112.R1_hg38.bed\", genes, \"EV\")\n",
    "h113_R1_cov = get_gene_cov(path + \"mapping/h112.R1_hg38.bed\", genes, \"WT\")\n",
    "h113_R2_cov = get_gene_cov(path + \"mapping/h112.R1_hg38.bed\", genes, \"WT\")\n",
    "h115_R1_cov = get_gene_cov(path + \"mapping/h112.R1_hg38.bed\", genes, \"4SA\")\n",
    "h115_R2_cov = get_gene_cov(path + \"mapping/h112.R1_hg38.bed\", genes, \"4SA\")\n",
    "h117_R1_cov = get_gene_cov(path + \"mapping/h112.R1_hg38.bed\", genes, \"4SD\")\n",
    "h117_R2_cov = get_gene_cov(path + \"mapping/h112.R1_hg38.bed\", genes, \"4SD\")"
   ]
  },
  {
   "cell_type": "code",
   "execution_count": 25,
   "id": "4331fd9b",
   "metadata": {},
   "outputs": [],
   "source": [
    "all_cov = pd.concat([h112_R1_cov,\n",
    "                     h112_R2_cov,\n",
    "                     h113_R1_cov,\n",
    "                     h113_R2_cov,\n",
    "                     h115_R1_cov,\n",
    "                     h115_R2_cov,\n",
    "                     h117_R1_cov,\n",
    "                     h117_R2_cov])"
   ]
  },
  {
   "cell_type": "code",
   "execution_count": 30,
   "id": "67376c28",
   "metadata": {},
   "outputs": [
    {
     "data": {
      "text/plain": [
       "(0.5, 6.0)"
      ]
     },
     "execution_count": 30,
     "metadata": {},
     "output_type": "execute_result"
    },
    {
     "data": {
      "image/png": "[encoded data removed]",
      "text/plain": [
       "<Figure size 500x500 with 1 Axes>"
      ]
     },
     "metadata": {},
     "output_type": "display_data"
    }
   ],
   "source": [
    "all_cov_grouped = all_cov.groupby(\"name\").sum()\n",
    "\n",
    "f, ax = plt.subplots(1,1, figsize = (5,5))\n",
    "sns.histplot(x = np.log10(all_cov_grouped.loc[all_cov_grouped[\"nReadsPerGene\"] >= 1][\"nReadsPerGene\"]), color = \"tomato\", binwidth = 0.1)\n",
    "ax.set_xlabel(\"log10 reads per gene (Coverage)\")\n",
    "ax.set_ylabel(\"number of reads per gene\")\n",
    "\n",
    "ax.set_xlim(0.5,6)"
   ]
  },
  {
   "cell_type": "code",
   "execution_count": 35,
   "id": "2901ddca",
   "metadata": {},
   "outputs": [
    {
     "data": {
      "text/plain": [
       "11651"
      ]
     },
     "execution_count": 35,
     "metadata": {},
     "output_type": "execute_result"
    }
   ],
   "source": [
    "len(all_cov_grouped.loc[all_cov_grouped.nReadsPerGene > 100])"
   ]
  },
  {
   "cell_type": "code",
   "execution_count": null,
   "id": "979af848",
   "metadata": {},
   "outputs": [],
   "source": []
  }
 ],
 "metadata": {
  "kernelspec": {
   "display_name": "Python 3 (ipykernel)",
   "language": "python",
   "name": "python3"
  },
  "language_info": {
   "codemirror_mode": {
    "name": "ipython",
    "version": 3
   },
   "file_extension": ".py",
   "mimetype": "text/x-python",
   "name": "python",
   "nbconvert_exporter": "python",
   "pygments_lexer": "ipython3",
   "version": "3.9.7"
  }
 },
 "nbformat": 4,
 "nbformat_minor": 5
}
