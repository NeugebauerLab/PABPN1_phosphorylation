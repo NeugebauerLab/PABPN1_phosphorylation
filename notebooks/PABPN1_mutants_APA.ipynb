{
 "cells": [
  {
   "cell_type": "markdown",
   "metadata": {},
   "source": [
    "# Alternative cleavage site usage between PABPN1 mutants"
   ]
  },
  {
   "cell_type": "code",
   "execution_count": 1,
   "metadata": {},
   "outputs": [
    {
     "name": "stdout",
     "output_type": "stream",
     "text": [
      "Intel MKL WARNING: Support of Intel(R) Streaming SIMD Extensions 4.2 (Intel(R) SSE4.2) enabled only processors has been deprecated. Intel oneAPI Math Kernel Library 2025.0 will require Intel(R) Advanced Vector Extensions (Intel(R) AVX) instructions.\n",
      "Intel MKL WARNING: Support of Intel(R) Streaming SIMD Extensions 4.2 (Intel(R) SSE4.2) enabled only processors has been deprecated. Intel oneAPI Math Kernel Library 2025.0 will require Intel(R) Advanced Vector Extensions (Intel(R) AVX) instructions.\n"
     ]
    }
   ],
   "source": [
    "###Load Packages\n",
    "\n",
    "#Functions for polyA specific analysis (must be in same path)\n",
    "from polyA_utils import *\n",
    "\n",
    "#Packages for general column manipulation and statistics\n",
    "import numpy as np\n",
    "import pandas as pd\n",
    "import csv\n",
    "from tqdm import tqdm\n",
    "from scipy import stats\n",
    "import scipy.stats as sci\n",
    "import pysam\n",
    "from scipy.signal import find_peaks\n",
    "import gffutils\n",
    "\n",
    "#Packages for plotting\n",
    "import matplotlib.pyplot as plt\n",
    "from statannotations.Annotator import Annotator\n",
    "import seaborn as sns\n",
    "sns.set(font_scale=1.5)\n",
    "sns.set_style(\"white\")"
   ]
  },
  {
   "cell_type": "markdown",
   "metadata": {},
   "source": [
    "Alternative cleavage site usage analyses for short read data were perfored using QAPA. Load in results dataframes for visualization. Compare 4SA vs 4SD (4SD set to reference condition)"
   ]
  },
  {
   "cell_type": "code",
   "execution_count": 2,
   "metadata": {},
   "outputs": [],
   "source": [
    "#Set datapath for DESeq2 analyses\n",
    "path = \"/path/to/data\""
   ]
  },
  {
   "cell_type": "code",
   "execution_count": 6,
   "metadata": {},
   "outputs": [],
   "source": [
    "figpath = \"./\""
   ]
  },
  {
   "cell_type": "code",
   "execution_count": 3,
   "metadata": {},
   "outputs": [],
   "source": [
    "#Define a function to calculate differences in PAS usage between conditions\n",
    "def APA_differences(df, condition1, condition2):\n",
    "    test_stat_list = []\n",
    "    df_2 = pd.DataFrame(df)\n",
    "    c1_df = df_2.filter(regex=\"PAU\").filter(regex=condition1)\n",
    "    c2_df = df_2.filter(regex=\"PAU\").filter(regex=condition2)\n",
    "    for idx, i in c1_df.iterrows():\n",
    "        c1_values = i.values.tolist()\n",
    "        c2_values = c2_df.iloc[idx].values.tolist()\n",
    "        test_stat = stats.ttest_ind(c1_values, c2_values).pvalue\n",
    "        test_stat_list.append(test_stat)\n",
    "    df_2[condition1 + \"_PAU_mean\"] = df_2.filter(regex=\"PAU\").filter(regex=condition1).mean(axis=1)\n",
    "    df_2[condition2 + \"_PAU_mean\"] = df_2.filter(regex=\"PAU\").filter(regex=condition2).mean(axis=1)\n",
    "    df_2[\"log2FC\"] = np.log2(df_2[condition2 + \"_PAU_mean\"]/df_2[condition1 + \"_PAU_mean\"])\n",
    "    df_2[\"pvalue\"] = test_stat_list\n",
    "    df_2 = df_2.dropna()\n",
    "    df_2[\"FDR\"] = stats.false_discovery_control(list(df_2[\"pvalue\"]))\n",
    "    return(df_2)"
   ]
  },
  {
   "cell_type": "code",
   "execution_count": 4,
   "metadata": {},
   "outputs": [
    {
     "name": "stderr",
     "output_type": "stream",
     "text": [
      "/Users/jacksongordon/opt/anaconda3/lib/python3.9/site-packages/scipy/stats/_axis_nan_policy.py:523: RuntimeWarning: Precision loss occurred in moment calculation due to catastrophic cancellation. This occurs when the data are nearly identical. Results may be unreliable.\n",
      "  res = hypotest_fun_out(*samples, **kwds)\n",
      "/Users/jacksongordon/opt/anaconda3/lib/python3.9/site-packages/pandas/core/arraylike.py:402: RuntimeWarning: divide by zero encountered in log2\n",
      "  result = getattr(ufunc, method)(*inputs, **kwargs)\n"
     ]
    }
   ],
   "source": [
    "#load in results DF and run the function to calculate differences in APA\n",
    "data_df = pd.read_csv(path + \"pau_results.txt\", sep = \"\\t\")\n",
    "df_results = APA_differences(data_df, \"h117\", \"h115\")"
   ]
  },
  {
   "cell_type": "markdown",
   "metadata": {},
   "source": [
    "Try to draw a line between points of the same transcript. Connect the dots between proximal and distal PAS usage"
   ]
  },
  {
   "cell_type": "code",
   "execution_count": 13,
   "metadata": {},
   "outputs": [
    {
     "data": {
      "image/png": "[encoded data removed]",
      "text/plain": [
       "<Figure size 500x500 with 1 Axes>"
      ]
     },
     "metadata": {},
     "output_type": "display_data"
    }
   ],
   "source": [
    "#Volcano plot to look at APA usage. More proximal or distal usage? \n",
    "f, ax = plt.subplots(1,1, figsize = (5,5))\n",
    "\n",
    "sns.scatterplot(data = df_results, x = \"log2FC\", y = -np.log10(df_results[\"FDR\"]), s = 15, alpha = 1, color = \"lightgrey\", edgecolor = \"black\", linewidth = 0.5)\n",
    "sns.scatterplot(data = df_results.loc[df_results.APA_ID.str.contains(\"P\")], x = \"log2FC\", y = -np.log10(df_results.loc[df_results.APA_ID.str.contains(\"P\")][\"FDR\"]), color = \"black\", edgecolor = \"black\", linewidth = 0.5, s = 15)\n",
    "\n",
    "# for i in np.unique(list(df_results.Gene_Name)):\n",
    "#     sns.lineplot(data = df_results.loc[df_results.Gene_Name == i], x = \"log2FC\", y = -np.log10(df_results.loc[df_results.Gene_Name == i][\"FDR\"]), color = \"black\", linewidth = 1, alpha = 0.5)\n",
    "\n",
    "ax.axhline(-np.log10(0.05), color = \"black\", linestyle = \"--\")\n",
    "ax.axvline(0, color = \"black\", linestyle = \"--\")\n",
    "ax.set_xlim(-5, 5)\n",
    "ax.set_ylim(0,5)\n",
    "ax.set_xlabel(\"$log_{2}$(FC 4SA/4SD)\")\n",
    "ax.set_ylabel(\"-$log_{10}$($p_{adj}$)\")\n",
    "\n",
    "plt.savefig(figpath + 'APA_4SAv4SD.png', dpi=300, bbox_inches=\"tight\")\n"
   ]
  },
  {
   "cell_type": "markdown",
   "metadata": {},
   "source": [
    "Same analysis with the long read data:"
   ]
  },
  {
   "cell_type": "markdown",
   "metadata": {},
   "source": [
    "Compare EV to WT. Does overexpression of PABPN1 show reverse of KD in Cell paper?"
   ]
  },
  {
   "cell_type": "code",
   "execution_count": 348,
   "metadata": {},
   "outputs": [
    {
     "name": "stderr",
     "output_type": "stream",
     "text": [
      "/Users/jacksongordon/opt/anaconda3/lib/python3.9/site-packages/scipy/stats/_axis_nan_policy.py:523: RuntimeWarning: Precision loss occurred in moment calculation due to catastrophic cancellation. This occurs when the data are nearly identical. Results may be unreliable.\n",
      "  res = hypotest_fun_out(*samples, **kwds)\n",
      "/Users/jacksongordon/opt/anaconda3/lib/python3.9/site-packages/pandas/core/arraylike.py:402: RuntimeWarning: divide by zero encountered in log2\n",
      "  result = getattr(ufunc, method)(*inputs, **kwargs)\n"
     ]
    }
   ],
   "source": [
    "#load in results DF and run the function to calculate differences in APA\n",
    "data_df = pd.read_csv(path + \"pau_results.txt\", sep = \"\\t\")\n",
    "df_results_2 = APA_differences(data_df, \"h112\", \"h113\")"
   ]
  },
  {
   "cell_type": "code",
   "execution_count": 355,
   "metadata": {},
   "outputs": [
    {
     "data": {
      "text/html": [
       "<div>\n",
       "<style scoped>\n",
       "    .dataframe tbody tr th:only-of-type {\n",
       "        vertical-align: middle;\n",
       "    }\n",
       "\n",
       "    .dataframe tbody tr th {\n",
       "        vertical-align: top;\n",
       "    }\n",
       "\n",
       "    .dataframe thead th {\n",
       "        text-align: right;\n",
       "    }\n",
       "</style>\n",
       "<table border=\"1\" class=\"dataframe\">\n",
       "  <thead>\n",
       "    <tr style=\"text-align: right;\">\n",
       "      <th></th>\n",
       "      <th>APA_ID</th>\n",
       "      <th>Transcript</th>\n",
       "      <th>Gene</th>\n",
       "      <th>Gene_Name</th>\n",
       "      <th>Chr</th>\n",
       "      <th>LastExon.Start</th>\n",
       "      <th>LastExon.End</th>\n",
       "      <th>Strand</th>\n",
       "      <th>UTR3.Start</th>\n",
       "      <th>UTR3.End</th>\n",
       "      <th>...</th>\n",
       "      <th>h115_R2_utr_quant.TPM</th>\n",
       "      <th>h115_R3_utr_quant.TPM</th>\n",
       "      <th>h117_R1_utr_quant.TPM</th>\n",
       "      <th>h117_R2_utr_quant.TPM</th>\n",
       "      <th>h117_R3_utr_quant.TPM</th>\n",
       "      <th>h112_PAU_mean</th>\n",
       "      <th>h113_PAU_mean</th>\n",
       "      <th>log2FC</th>\n",
       "      <th>pvalue</th>\n",
       "      <th>FDR</th>\n",
       "    </tr>\n",
       "  </thead>\n",
       "  <tbody>\n",
       "    <tr>\n",
       "      <th>0</th>\n",
       "      <td>ENSG00000010017_1_D</td>\n",
       "      <td>ENST00000011619</td>\n",
       "      <td>ENSG00000010017</td>\n",
       "      <td>RANBP9</td>\n",
       "      <td>chr6</td>\n",
       "      <td>13621730</td>\n",
       "      <td>13622492</td>\n",
       "      <td>-</td>\n",
       "      <td>13621730</td>\n",
       "      <td>13622361</td>\n",
       "      <td>...</td>\n",
       "      <td>1214.025417</td>\n",
       "      <td>1996.105864</td>\n",
       "      <td>1685.322082</td>\n",
       "      <td>1307.987601</td>\n",
       "      <td>1692.356698</td>\n",
       "      <td>94.946000</td>\n",
       "      <td>81.201667</td>\n",
       "      <td>-0.225598</td>\n",
       "      <td>0.294318</td>\n",
       "      <td>0.642154</td>\n",
       "    </tr>\n",
       "    <tr>\n",
       "      <th>1</th>\n",
       "      <td>ENSG00000010017_2_D</td>\n",
       "      <td>ENST00000011619</td>\n",
       "      <td>ENSG00000010017</td>\n",
       "      <td>RANBP9</td>\n",
       "      <td>chr6</td>\n",
       "      <td>13621849</td>\n",
       "      <td>13622492</td>\n",
       "      <td>-</td>\n",
       "      <td>13621849</td>\n",
       "      <td>13622361</td>\n",
       "      <td>...</td>\n",
       "      <td>303.605232</td>\n",
       "      <td>0.000000</td>\n",
       "      <td>0.000000</td>\n",
       "      <td>0.000000</td>\n",
       "      <td>0.000000</td>\n",
       "      <td>5.054000</td>\n",
       "      <td>18.798333</td>\n",
       "      <td>1.895107</td>\n",
       "      <td>0.294318</td>\n",
       "      <td>0.642154</td>\n",
       "    </tr>\n",
       "    <tr>\n",
       "      <th>4</th>\n",
       "      <td>ENSG00000017797_2_D</td>\n",
       "      <td>ENST00000019317</td>\n",
       "      <td>ENSG00000017797</td>\n",
       "      <td>RALBP1</td>\n",
       "      <td>chr18</td>\n",
       "      <td>9535670</td>\n",
       "      <td>9537606</td>\n",
       "      <td>+</td>\n",
       "      <td>9535937</td>\n",
       "      <td>9537606</td>\n",
       "      <td>...</td>\n",
       "      <td>493.523541</td>\n",
       "      <td>687.991704</td>\n",
       "      <td>716.909135</td>\n",
       "      <td>579.217308</td>\n",
       "      <td>668.873560</td>\n",
       "      <td>87.415667</td>\n",
       "      <td>91.762667</td>\n",
       "      <td>0.070015</td>\n",
       "      <td>0.320025</td>\n",
       "      <td>0.642154</td>\n",
       "    </tr>\n",
       "    <tr>\n",
       "      <th>5</th>\n",
       "      <td>ENSG00000017797_3_D</td>\n",
       "      <td>ENST00000019317</td>\n",
       "      <td>ENSG00000017797</td>\n",
       "      <td>RALBP1</td>\n",
       "      <td>chr18</td>\n",
       "      <td>9535670</td>\n",
       "      <td>9538112</td>\n",
       "      <td>+</td>\n",
       "      <td>9535937</td>\n",
       "      <td>9538112</td>\n",
       "      <td>...</td>\n",
       "      <td>59.931201</td>\n",
       "      <td>101.869231</td>\n",
       "      <td>47.355661</td>\n",
       "      <td>37.616515</td>\n",
       "      <td>68.811540</td>\n",
       "      <td>12.584333</td>\n",
       "      <td>8.237333</td>\n",
       "      <td>-0.611380</td>\n",
       "      <td>0.320025</td>\n",
       "      <td>0.642154</td>\n",
       "    </tr>\n",
       "    <tr>\n",
       "      <th>6</th>\n",
       "      <td>ENSG00000031823_1_P</td>\n",
       "      <td>ENST00000034275</td>\n",
       "      <td>ENSG00000031823</td>\n",
       "      <td>RANBP3</td>\n",
       "      <td>chr19</td>\n",
       "      <td>5917326</td>\n",
       "      <td>5917653</td>\n",
       "      <td>-</td>\n",
       "      <td>5917326</td>\n",
       "      <td>5917609</td>\n",
       "      <td>...</td>\n",
       "      <td>0.000000</td>\n",
       "      <td>0.000000</td>\n",
       "      <td>176.659381</td>\n",
       "      <td>0.000000</td>\n",
       "      <td>0.000000</td>\n",
       "      <td>14.384333</td>\n",
       "      <td>23.529333</td>\n",
       "      <td>0.709962</td>\n",
       "      <td>0.596805</td>\n",
       "      <td>0.810442</td>\n",
       "    </tr>\n",
       "  </tbody>\n",
       "</table>\n",
       "<p>5 rows × 41 columns</p>\n",
       "</div>"
      ],
      "text/plain": [
       "                APA_ID       Transcript             Gene Gene_Name    Chr  \\\n",
       "0  ENSG00000010017_1_D  ENST00000011619  ENSG00000010017    RANBP9   chr6   \n",
       "1  ENSG00000010017_2_D  ENST00000011619  ENSG00000010017    RANBP9   chr6   \n",
       "4  ENSG00000017797_2_D  ENST00000019317  ENSG00000017797    RALBP1  chr18   \n",
       "5  ENSG00000017797_3_D  ENST00000019317  ENSG00000017797    RALBP1  chr18   \n",
       "6  ENSG00000031823_1_P  ENST00000034275  ENSG00000031823    RANBP3  chr19   \n",
       "\n",
       "   LastExon.Start  LastExon.End Strand  UTR3.Start  UTR3.End  ...  \\\n",
       "0        13621730      13622492      -    13621730  13622361  ...   \n",
       "1        13621849      13622492      -    13621849  13622361  ...   \n",
       "4         9535670       9537606      +     9535937   9537606  ...   \n",
       "5         9535670       9538112      +     9535937   9538112  ...   \n",
       "6         5917326       5917653      -     5917326   5917609  ...   \n",
       "\n",
       "   h115_R2_utr_quant.TPM  h115_R3_utr_quant.TPM  h117_R1_utr_quant.TPM  \\\n",
       "0            1214.025417            1996.105864            1685.322082   \n",
       "1             303.605232               0.000000               0.000000   \n",
       "4             493.523541             687.991704             716.909135   \n",
       "5              59.931201             101.869231              47.355661   \n",
       "6               0.000000               0.000000             176.659381   \n",
       "\n",
       "   h117_R2_utr_quant.TPM  h117_R3_utr_quant.TPM  h112_PAU_mean  h113_PAU_mean  \\\n",
       "0            1307.987601            1692.356698      94.946000      81.201667   \n",
       "1               0.000000               0.000000       5.054000      18.798333   \n",
       "4             579.217308             668.873560      87.415667      91.762667   \n",
       "5              37.616515              68.811540      12.584333       8.237333   \n",
       "6               0.000000               0.000000      14.384333      23.529333   \n",
       "\n",
       "     log2FC    pvalue       FDR  \n",
       "0 -0.225598  0.294318  0.642154  \n",
       "1  1.895107  0.294318  0.642154  \n",
       "4  0.070015  0.320025  0.642154  \n",
       "5 -0.611380  0.320025  0.642154  \n",
       "6  0.709962  0.596805  0.810442  \n",
       "\n",
       "[5 rows x 41 columns]"
      ]
     },
     "execution_count": 355,
     "metadata": {},
     "output_type": "execute_result"
    }
   ],
   "source": [
    "df_results_2.head()"
   ]
  }
 ],
 "metadata": {
  "celltoolbar": "Raw Cell Format",
  "kernelspec": {
   "display_name": "Python 3 (ipykernel)",
   "language": "python",
   "name": "python3"
  },
  "language_info": {
   "codemirror_mode": {
    "name": "ipython",
    "version": 3
   },
   "file_extension": ".py",
   "mimetype": "text/x-python",
   "name": "python",
   "nbconvert_exporter": "python",
   "pygments_lexer": "ipython3",
   "version": "3.9.7"
  }
 },
 "nbformat": 4,
 "nbformat_minor": 4
}
